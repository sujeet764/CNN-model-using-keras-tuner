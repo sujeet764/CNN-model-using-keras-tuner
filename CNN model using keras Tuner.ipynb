{
 "cells": [
  {
   "cell_type": "code",
   "execution_count": 2,
   "metadata": {
    "id": "NjkvMWF18XQn"
   },
   "outputs": [],
   "source": [
    "import tensorflow as tf\n",
    "from tensorflow import keras\n",
    "import numpy as np"
   ]
  },
  {
   "cell_type": "code",
   "execution_count": 3,
   "metadata": {
    "id": "4eYFEuzl8-Yd"
   },
   "outputs": [],
   "source": [
    "fashion_mnist = keras.datasets.fashion_mnist"
   ]
  },
  {
   "cell_type": "code",
   "execution_count": 4,
   "metadata": {
    "colab": {
     "base_uri": "https://localhost:8080/"
    },
    "id": "Cq2x_1Mm9Agy",
    "outputId": "1dd315b5-baca-4627-9d36-ef4d5629bde1"
   },
   "outputs": [
    {
     "name": "stdout",
     "output_type": "stream",
     "text": [
      "Downloading data from https://storage.googleapis.com/tensorflow/tf-keras-datasets/train-labels-idx1-ubyte.gz\n",
      "32768/29515 [=================================] - 0s 0us/step\n",
      "Downloading data from https://storage.googleapis.com/tensorflow/tf-keras-datasets/train-images-idx3-ubyte.gz\n",
      "26427392/26421880 [==============================] - 0s 0us/step\n",
      "Downloading data from https://storage.googleapis.com/tensorflow/tf-keras-datasets/t10k-labels-idx1-ubyte.gz\n",
      "8192/5148 [===============================================] - 0s 0us/step\n",
      "Downloading data from https://storage.googleapis.com/tensorflow/tf-keras-datasets/t10k-images-idx3-ubyte.gz\n",
      "4423680/4422102 [==============================] - 0s 0us/step\n"
     ]
    }
   ],
   "source": [
    "(train_images,train_labels),(test_images,test_labels)=fashion_mnist.load_data()"
   ]
  },
  {
   "cell_type": "code",
   "execution_count": 5,
   "metadata": {
    "id": "vO8b-KX29CGX"
   },
   "outputs": [],
   "source": [
    "train_images = train_images/255.0\n",
    "test_iamges = test_images/255.0"
   ]
  },
  {
   "cell_type": "code",
   "execution_count": 6,
   "metadata": {
    "id": "4uARIIot9N3e"
   },
   "outputs": [],
   "source": [
    "train_images = train_images.reshape(len(train_images),28,28,1)\n",
    "test_images = test_images.reshape(len(test_images),28,28,1)"
   ]
  },
  {
   "cell_type": "code",
   "execution_count": 7,
   "metadata": {
    "id": "kt7wZaLO9S28"
   },
   "outputs": [],
   "source": [
    "def build_model(hp):\n",
    "    model = keras.Sequential([\n",
    "        keras.layers.Conv2D(filters = hp.Int('Conv_1_kernel',min_value = 64, max_value = 128, step = 16),\n",
    "                        kernel_size = hp.Choice('conv_1_kernel', values = [3,5]),\n",
    "                        activation = 'relu',\n",
    "                       input_shape = (28,28,1)\n",
    "        ),\n",
    "        keras.layers.Conv2D(filters = hp.Int('Conv_2_kernel',min_value = 64, max_value = 128, step = 16),\n",
    "                           kernel_size = hp.Choice('conv_2_kernel', values = [3,5]),\n",
    "                           activation = 'relu'\n",
    "        ),\n",
    "        keras.layers.Flatten(),\n",
    "        keras.layers.Dense(units = hp.Int('dense_1_units', min_value = 32, max_value = 132, step = 16),\n",
    "                          activation = 'relu'\n",
    "                          ),\n",
    "        keras.layers.Dense(10, activation = 'softmax')\n",
    "    ])\n",
    "    \n",
    "    model.compile(optimizer = keras.optimizers.Adam(hp.Choice('learning_rate', values = [1e-2, 1e-3])),\n",
    "                 loss = 'sparse_categorical_crossentropy',\n",
    "                 metrics = ['accuracy'])\n",
    "    return model\n",
    "        \n",
    "    "
   ]
  },
  {
   "cell_type": "code",
   "execution_count": 12,
   "metadata": {
    "id": "MWnP9tyg9UPq"
   },
   "outputs": [],
   "source": [
    "from kerastuner import RandomSearch\n",
    "from kerastuner.engine.hyperparameters import HyperParameters"
   ]
  },
  {
   "cell_type": "code",
   "execution_count": 33,
   "metadata": {
    "colab": {
     "base_uri": "https://localhost:8080/"
    },
    "id": "HOZiIa7e9amc",
    "outputId": "87ad0684-db17-413b-e0b2-777481de534d"
   },
   "outputs": [
    {
     "name": "stdout",
     "output_type": "stream",
     "text": [
      "INFO:tensorflow:Reloading Oracle from existing project output/Fashion_MNIST/oracle.json\n",
      "INFO:tensorflow:Reloading Tuner from output/Fashion_MNIST/tuner0.json\n"
     ]
    }
   ],
   "source": [
    "tuner_search = RandomSearch(build_model, objective = \"val_accuracy\", max_trials = 5, directory = \"output\",project_name = \"Fashion_MNIST\" )"
   ]
  },
  {
   "cell_type": "code",
   "execution_count": 34,
   "metadata": {
    "colab": {
     "base_uri": "https://localhost:8080/"
    },
    "id": "qlRdFEhk9vWS",
    "outputId": "3155ba0b-9b35-4bbd-95d3-96279f6c4bc3"
   },
   "outputs": [
    {
     "name": "stdout",
     "output_type": "stream",
     "text": [
      "INFO:tensorflow:Oracle triggered exit\n"
     ]
    }
   ],
   "source": [
    "tuner_search.search(train_images, train_labels, epochs = 3, validation_split = 0.1)"
   ]
  },
  {
   "cell_type": "code",
   "execution_count": 35,
   "metadata": {
    "id": "w5rONEY794aP"
   },
   "outputs": [],
   "source": [
    "model = tuner_search.get_best_models(num_models = 1)[0]"
   ]
  },
  {
   "cell_type": "code",
   "execution_count": 36,
   "metadata": {
    "colab": {
     "base_uri": "https://localhost:8080/"
    },
    "id": "JoksUYDo_cC3",
    "outputId": "c86fe461-4c32-4109-954b-f025a7e625a8"
   },
   "outputs": [
    {
     "name": "stdout",
     "output_type": "stream",
     "text": [
      "Model: \"sequential\"\n",
      "_________________________________________________________________\n",
      "Layer (type)                 Output Shape              Param #   \n",
      "=================================================================\n",
      "conv2d (Conv2D)              (None, 24, 24, 96)        2496      \n",
      "_________________________________________________________________\n",
      "conv2d_1 (Conv2D)            (None, 22, 22, 80)        69200     \n",
      "_________________________________________________________________\n",
      "flatten (Flatten)            (None, 38720)             0         \n",
      "_________________________________________________________________\n",
      "dense (Dense)                (None, 96)                3717216   \n",
      "_________________________________________________________________\n",
      "dense_1 (Dense)              (None, 10)                970       \n",
      "=================================================================\n",
      "Total params: 3,789,882\n",
      "Trainable params: 3,789,882\n",
      "Non-trainable params: 0\n",
      "_________________________________________________________________\n"
     ]
    }
   ],
   "source": [
    "model.summary()"
   ]
  },
  {
   "cell_type": "code",
   "execution_count": 38,
   "metadata": {
    "colab": {
     "base_uri": "https://localhost:8080/"
    },
    "id": "Vs53t2QqAp7g",
    "outputId": "2c1f5045-2469-497e-cd4f-ad54b156d4fe"
   },
   "outputs": [
    {
     "name": "stdout",
     "output_type": "stream",
     "text": [
      "Epoch 4/10\n",
      "1688/1688 [==============================] - 6s 4ms/step - loss: 0.1564 - accuracy: 0.9411 - val_loss: 0.2594 - val_accuracy: 0.9067\n",
      "Epoch 5/10\n",
      "1688/1688 [==============================] - 6s 4ms/step - loss: 0.1166 - accuracy: 0.9567 - val_loss: 0.2752 - val_accuracy: 0.9125\n",
      "Epoch 6/10\n",
      "1688/1688 [==============================] - 6s 4ms/step - loss: 0.0850 - accuracy: 0.9681 - val_loss: 0.3255 - val_accuracy: 0.9075\n",
      "Epoch 7/10\n",
      "1688/1688 [==============================] - 6s 4ms/step - loss: 0.0637 - accuracy: 0.9763 - val_loss: 0.3650 - val_accuracy: 0.9113\n",
      "Epoch 8/10\n",
      "1688/1688 [==============================] - 6s 4ms/step - loss: 0.0494 - accuracy: 0.9814 - val_loss: 0.4071 - val_accuracy: 0.9078\n",
      "Epoch 9/10\n",
      "1688/1688 [==============================] - 6s 4ms/step - loss: 0.0389 - accuracy: 0.9854 - val_loss: 0.4685 - val_accuracy: 0.9115\n",
      "Epoch 10/10\n",
      "1688/1688 [==============================] - 6s 4ms/step - loss: 0.0314 - accuracy: 0.9881 - val_loss: 0.4933 - val_accuracy: 0.9090\n"
     ]
    },
    {
     "data": {
      "text/plain": [
       "<tensorflow.python.keras.callbacks.History at 0x7f3b6babab00>"
      ]
     },
     "execution_count": 38,
     "metadata": {
      "tags": []
     },
     "output_type": "execute_result"
    }
   ],
   "source": [
    "model.fit(train_images, train_labels, epochs = 10, validation_split = 0.1, initial_epoch = 3)"
   ]
  }
 ],
 "metadata": {
  "accelerator": "GPU",
  "colab": {
   "collapsed_sections": [],
   "name": "Untitled2.ipynb",
   "provenance": []
  },
  "kernelspec": {
   "display_name": "Python 3",
   "language": "python",
   "name": "python3"
  },
  "language_info": {
   "codemirror_mode": {
    "name": "ipython",
    "version": 3
   },
   "file_extension": ".py",
   "mimetype": "text/x-python",
   "name": "python",
   "nbconvert_exporter": "python",
   "pygments_lexer": "ipython3",
   "version": "3.7.4"
  }
 },
 "nbformat": 4,
 "nbformat_minor": 1
}
